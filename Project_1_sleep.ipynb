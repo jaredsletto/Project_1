{
 "cells": [
  {
   "cell_type": "code",
   "execution_count": 3,
   "id": "22ce33d3",
   "metadata": {},
   "outputs": [],
   "source": [
    "# Import Dependencies\n",
    "import pandas as pd\n",
    "from pathlib import Path\n",
    "from matplotlib import pyplot as plt"
   ]
  },
  {
   "cell_type": "code",
   "execution_count": 4,
   "id": "df7eccb1",
   "metadata": {},
   "outputs": [],
   "source": [
    "# Load sleep_data set into pandas\n",
    "sleep_data = pd.read_csv(\"resources/Sleep_health_and_lifestyle_dataset.csv\")\n",
    "sleep_data.head()"
   ]
  },
  {
   "cell_type": "code",
   "execution_count": 5,
   "id": "d38a067a",
   "metadata": {},
   "outputs": [],
   "source": [
    "# No Null Values\n",
    "# Identify types\n",
    "sleep_data.dtypes"
   ]
  },
  {
   "cell_type": "code",
   "execution_count": 6,
   "id": "61584813",
   "metadata": {},
   "outputs": [],
   "source": [
    "# Identify unique values"
   ]
  },
  {
   "cell_type": "code",
   "execution_count": 7,
   "id": "571fe491",
   "metadata": {},
   "outputs": [],
   "source": [
    "# Sleep - Physical Activity\n"
   ]
  },
  {
   "cell_type": "code",
   "execution_count": 8,
   "id": "d3e77119",
   "metadata": {},
   "outputs": [],
   "source": [
    "# Does the need for sleep increase with age? (Stress)(Sleep duraation)(Sleep Quality)"
   ]
  },
  {
   "cell_type": "code",
   "execution_count": 9,
   "id": "32baa5b4",
   "metadata": {},
   "outputs": [],
   "source": [
    "# Create bins\n",
    "bins = [20, 29, 39, 49, 59]\n",
    "age_labels = [\"20s\", \"30s\", \"40s\", \"50s\"]"
   ]
  },
  {
   "cell_type": "code",
   "execution_count": 10,
   "id": "88d0f526",
   "metadata": {},
   "outputs": [],
   "source": [
    "# Slice the data and place it into bins\n",
    "# Place the data series into a new column inside of the DataFrame\n",
    "sleep_data[\"Age Range\"] = pd.cut(sleep_data[\"Age\"], bins, labels=age_labels)\n",
    "sleep_data"
   ]
  },
  {
   "cell_type": "code",
   "execution_count": 11,
   "id": "25efd4f1",
   "metadata": {},
   "outputs": [],
   "source": [
    "#calculate the mean of stress level by age group\n",
    "age_stress = sleep_data.groupby([\"Age Range\"])[\"Stress Level\"].mean()\n",
    "age_stress"
   ]
  },
  {
   "cell_type": "code",
   "execution_count": 12,
   "id": "00e0303d",
   "metadata": {},
   "outputs": [],
   "source": [
    "#calculate the mean of sleep duration by age group\n",
    "age_sleep_duration = sleep_data.groupby([\"Age Range\"])[\"Sleep Duration\"].mean()\n",
    "age_sleep_duration"
   ]
  },
  {
   "cell_type": "code",
   "execution_count": 13,
   "id": "2c2312fb",
   "metadata": {},
   "outputs": [],
   "source": [
    "age_sleep_quality = sleep_data.groupby([\"Age Range\"])[\"Quality of Sleep\"].mean()\n",
    "age_sleep_quality"
   ]
  },
  {
   "cell_type": "code",
   "execution_count": 14,
   "id": "4a81dfc1",
   "metadata": {},
   "outputs": [],
   "source": [
    "# Create bar chart for age_stress\n",
    "age_sleep_quality.plot(kind='bar', color=\"green\", alpha=0.15, legend=\"Quality of Sleep\", align=\"edge\", width=0.2)\n",
    "age_stress.plot(kind='bar', color=\"orange\", alpha=0.15, legend=\"Stress Level\", align=\"center\", width=0.2)\n",
    "\n",
    "# Create the ticks/titles/labels for our bar chart's x axis\n",
    "plt.title(\"Stress Level by Sleep Duration\")\n",
    "plt.xlabel(\"Age Range\")\n",
    "plt.ylabel(\"Stress Level / Sleep Duration\")\n",
    "plt.legend(loc=3)\n",
    "plt.savefig(\"images/age_duration_bar.png\")\n",
    "plt.show()"
   ]
  },
  {
   "cell_type": "code",
   "execution_count": 15,
   "id": "1d8acacd",
   "metadata": {},
   "outputs": [],
   "source": [
    "# Create bar chart for age_stress\n",
    "age_stress.plot(kind='bar', color=\"orange\", alpha=0.15, legend=\"Stress Level\", align=\"center\", width=0.2)\n",
    "age_sleep_duration.plot(kind='bar', color=\"blue\", alpha=0.15, legend=\"Sleep Duration\", align=\"edge\",  width=0.2)\n",
    "\n",
    "# Create the ticks/titles/labels for our bar chart's x axis\n",
    "plt.title(\"Stress Level by Quality of Sleep\")\n",
    "plt.xlabel(\"Age Range\")\n",
    "plt.ylabel(\"Stress Level / Quality of Sleep\")\n",
    "plt.legend(loc=3)\n",
    "plt.savefig(\"images/age_quality_bar.png\")\n",
    "plt.show()"
   ]
  },
  {
   "cell_type": "code",
   "execution_count": 16,
   "id": "4eb7212b",
   "metadata": {},
   "outputs": [],
   "source": [
    "# Create dfs for age ranges\n",
    "twenties_df = sleep_data[sleep_data[\"Age Range\"] == \"20s\"]\n",
    "thirties_df = sleep_data[sleep_data[\"Age Range\"] == \"30s\"]\n",
    "forties_df = sleep_data[sleep_data[\"Age Range\"] == \"40s\"]\n",
    "fifties_df = sleep_data[sleep_data[\"Age Range\"] == \"50s\"]"
   ]
  },
  {
   "cell_type": "code",
   "execution_count": 17,
   "id": "eb5229cc",
   "metadata": {},
   "outputs": [],
   "source": [
    "# Create scatter plot for stress x duration\n",
    "# plot the sleep duration to stress level relationship for people in their 20s\n",
    "x = twenties_df[\"Sleep Duration\"]\n",
    "y = twenties_df[\"Stress Level\"]\n",
    "plt.scatter(x, y, color=\"cyan\", marker=\"o\", s=80, alpha=0.25, label = \"20s\")\n",
    "\n",
    "# plot the sleep duration to stress level relationship for people in their 30s\n",
    "x = thirties_df[\"Sleep Duration\"]\n",
    "y = thirties_df[\"Stress Level\"]\n",
    "plt.scatter(x, y,color=\"magenta\", marker=\"+\", s=80, alpha=0.25, label = \"30s\")\n",
    "\n",
    "# plot the sleep duration to stress level relationship for people in their 40s\n",
    "x = forties_df[\"Sleep Duration\"]\n",
    "y = forties_df[\"Stress Level\"]\n",
    "plt.scatter(x, y, color=\"blue\", marker=\"x\", s=80, alpha=0.25, label = \"40s\")\n",
    "\n",
    "# plot the sleep duration to stress level relationship for people in their 50s\n",
    "x = fifties_df[\"Sleep Duration\"]\n",
    "y = fifties_df[\"Stress Level\"]\n",
    "plt.scatter(x, y, color=\"yellow\", marker=\"*\", s=80, alpha=0.25, label = \"50s\")\n",
    "\n",
    "\n",
    "# Create the ticks/titles/labels for our bar chart's x axis\n",
    "plt.title(\"Stress Level / Sleep Duration by Age Range\")\n",
    "plt.xlabel(\"Sleep Duration\")\n",
    "plt.ylabel(\"Stress Level\")\n",
    "plt.legend(loc=3)\n",
    "plt.savefig(\"images/sleep_duration_scatter.png\")\n",
    "plt.show()"
   ]
  },
  {
   "cell_type": "code",
   "execution_count": 18,
   "id": "a8213dca",
   "metadata": {},
   "outputs": [],
   "source": [
    "# Create scatter plot for stress x quality\n",
    "# plot the sleep quality to stress level relationship for people in their 20s\n",
    "x = twenties_df[\"Quality of Sleep\"]\n",
    "y = twenties_df[\"Stress Level\"]\n",
    "plt.scatter(x, y, color=\"cyan\", marker=\"o\", s=80, alpha=0.25, label = \"20s\")\n",
    "\n",
    "# plot the sleep quality to stress level relationship for people in their 30s\n",
    "x = thirties_df[\"Quality of Sleep\"]\n",
    "y = thirties_df[\"Stress Level\"]\n",
    "plt.scatter(x, y,color=\"magenta\", marker=\"+\", s=80, alpha=0.25, label = \"30s\")\n",
    "\n",
    "# plot the sleep quality to stress level relationship for people in their 40s\n",
    "x = forties_df[\"Quality of Sleep\"]\n",
    "y = forties_df[\"Stress Level\"]\n",
    "plt.scatter(x, y, color=\"blue\", marker=\"x\", s=80, alpha=0.25, label = \"40s\")\n",
    "\n",
    "# plot the sleep quality to stress level relationship for people in their 50s\n",
    "x = fifties_df[\"Quality of Sleep\"]\n",
    "y = fifties_df[\"Stress Level\"]\n",
    "plt.scatter(x, y, color=\"yellow\", marker=\"*\", s=80, alpha=0.25, label = \"50s\")\n",
    "\n",
    "\n",
    "# Create the ticks/titles/labels for our bar chart's x axis\n",
    "plt.title(\"Stress Level / Sleep Duration by Age Range\")\n",
    "plt.xlabel(\"Quality of Sleep\")\n",
    "plt.ylabel(\"Stress Level\")\n",
    "plt.legend(loc=3)\n",
    "plt.savefig(\"images/sleep_quality_scatter.png\")\n",
    "plt.show()"
   ]
  },
  {
   "cell_type": "code",
   "execution_count": 19,
   "id": "240b5eb0",
   "metadata": {},
   "outputs": [],
   "source": [
    "# On average are males or females getting better sleep? (lydia)\n",
    "# How does gender correlate with occupation and average length of sleep?\n",
    "# Group occupations\n",
    "occupation_data = sleep_data.groupby([\"Occupation\"])[\"Sleep Duration\"].mean()\n",
    "occupation_data\n",
    "# Generate graph 1\n",
    "# Generate graph 2"
   ]
  },
  {
   "cell_type": "code",
   "execution_count": 20,
   "id": "81c8ee34",
   "metadata": {},
   "outputs": [],
   "source": [
    "# Occupation - BMI\n",
    "# Run unique values\n",
    "# replace normal weight with average\n",
    "# drop \"other\" values"
   ]
  },
  {
   "cell_type": "code",
   "execution_count": 21,
   "id": "f09a63b4",
   "metadata": {},
   "outputs": [],
   "source": [
    "cities = [\"San Francisco\", \"Omaha\", \"New Orleans\", \"Cincinnati\", \"Pittsburgh\"]\n",
    "cars_in_cities = [214.7, 564.4, 416.5, 466.7, 350.6]\n",
    "x_axis = np.arange(len(cars_in_cities))"
   ]
  },
  {
   "cell_type": "code",
   "execution_count": 22,
   "id": "4eccd88a",
   "metadata": {},
   "outputs": [],
   "source": [
    " # Create a bar chart based upon the above data\n",
    "plt.bar(x_axis, cars_in_cities, color=\"b\", align=\"center\")"
   ]
  },
  {
   "cell_type": "code",
   "execution_count": null,
   "id": "30a97ee5",
   "metadata": {},
   "outputs": [],
   "source": [
    " # Create the ticks for our bar chart's x axis\n",
    "tick_locations = [value for value in x_axis]\n",
    "plt.xticks(tick_locations, cities)\n",
    "plt.show()"
   ]
  },
  {
   "cell_type": "code",
   "execution_count": null,
   "id": "ee08b6ce",
   "metadata": {},
   "outputs": [],
   "source": []
  }
 ],
 "metadata": {
  "kernelspec": {
   "display_name": "Python 3 (ipykernel)",
   "language": "python",
   "name": "python3"
  },
  "language_info": {
   "codemirror_mode": {
    "name": "ipython",
    "version": 3
   },
   "file_extension": ".py",
   "mimetype": "text/x-python",
   "name": "python",
   "nbconvert_exporter": "python",
   "pygments_lexer": "ipython3",
   "version": "3.10.11"
  }
 },
 "nbformat": 4,
 "nbformat_minor": 5
}
