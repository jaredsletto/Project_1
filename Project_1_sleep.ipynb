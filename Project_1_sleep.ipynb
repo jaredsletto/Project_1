{
 "cells": [
  {
   "cell_type": "code",
   "execution_count": 2,
   "id": "22ce33d3",
   "metadata": {},
   "outputs": [],
   "source": [
    "# Import Dependencies\n",
    "import pandas as pd\n",
    "from pathlib import Path\n",
    "from matplotlib import pyplot as plt"
   ]
  },
  {
   "cell_type": "code",
   "execution_count": 3,
   "id": "df7eccb1",
   "metadata": {},
   "outputs": [
    {
     "data": {
      "text/html": [
       "<div>\n",
       "<style scoped>\n",
       "    .dataframe tbody tr th:only-of-type {\n",
       "        vertical-align: middle;\n",
       "    }\n",
       "\n",
       "    .dataframe tbody tr th {\n",
       "        vertical-align: top;\n",
       "    }\n",
       "\n",
       "    .dataframe thead th {\n",
       "        text-align: right;\n",
       "    }\n",
       "</style>\n",
       "<table border=\"1\" class=\"dataframe\">\n",
       "  <thead>\n",
       "    <tr style=\"text-align: right;\">\n",
       "      <th></th>\n",
       "      <th>Person ID</th>\n",
       "      <th>Gender</th>\n",
       "      <th>Age</th>\n",
       "      <th>Occupation</th>\n",
       "      <th>Sleep Duration</th>\n",
       "      <th>Quality of Sleep</th>\n",
       "      <th>Physical Activity Level</th>\n",
       "      <th>Stress Level</th>\n",
       "      <th>BMI Category</th>\n",
       "      <th>Blood Pressure</th>\n",
       "      <th>Heart Rate</th>\n",
       "      <th>Daily Steps</th>\n",
       "      <th>Sleep Disorder</th>\n",
       "    </tr>\n",
       "  </thead>\n",
       "  <tbody>\n",
       "    <tr>\n",
       "      <th>0</th>\n",
       "      <td>1</td>\n",
       "      <td>Male</td>\n",
       "      <td>27</td>\n",
       "      <td>Software Engineer</td>\n",
       "      <td>6.1</td>\n",
       "      <td>6</td>\n",
       "      <td>42</td>\n",
       "      <td>6</td>\n",
       "      <td>Overweight</td>\n",
       "      <td>126/83</td>\n",
       "      <td>77</td>\n",
       "      <td>4200</td>\n",
       "      <td>None</td>\n",
       "    </tr>\n",
       "    <tr>\n",
       "      <th>1</th>\n",
       "      <td>2</td>\n",
       "      <td>Male</td>\n",
       "      <td>28</td>\n",
       "      <td>Doctor</td>\n",
       "      <td>6.2</td>\n",
       "      <td>6</td>\n",
       "      <td>60</td>\n",
       "      <td>8</td>\n",
       "      <td>Normal</td>\n",
       "      <td>125/80</td>\n",
       "      <td>75</td>\n",
       "      <td>10000</td>\n",
       "      <td>None</td>\n",
       "    </tr>\n",
       "    <tr>\n",
       "      <th>2</th>\n",
       "      <td>3</td>\n",
       "      <td>Male</td>\n",
       "      <td>28</td>\n",
       "      <td>Doctor</td>\n",
       "      <td>6.2</td>\n",
       "      <td>6</td>\n",
       "      <td>60</td>\n",
       "      <td>8</td>\n",
       "      <td>Normal</td>\n",
       "      <td>125/80</td>\n",
       "      <td>75</td>\n",
       "      <td>10000</td>\n",
       "      <td>None</td>\n",
       "    </tr>\n",
       "    <tr>\n",
       "      <th>3</th>\n",
       "      <td>4</td>\n",
       "      <td>Male</td>\n",
       "      <td>28</td>\n",
       "      <td>Sales Representative</td>\n",
       "      <td>5.9</td>\n",
       "      <td>4</td>\n",
       "      <td>30</td>\n",
       "      <td>8</td>\n",
       "      <td>Obese</td>\n",
       "      <td>140/90</td>\n",
       "      <td>85</td>\n",
       "      <td>3000</td>\n",
       "      <td>Sleep Apnea</td>\n",
       "    </tr>\n",
       "    <tr>\n",
       "      <th>4</th>\n",
       "      <td>5</td>\n",
       "      <td>Male</td>\n",
       "      <td>28</td>\n",
       "      <td>Sales Representative</td>\n",
       "      <td>5.9</td>\n",
       "      <td>4</td>\n",
       "      <td>30</td>\n",
       "      <td>8</td>\n",
       "      <td>Obese</td>\n",
       "      <td>140/90</td>\n",
       "      <td>85</td>\n",
       "      <td>3000</td>\n",
       "      <td>Sleep Apnea</td>\n",
       "    </tr>\n",
       "  </tbody>\n",
       "</table>\n",
       "</div>"
      ],
      "text/plain": [
       "   Person ID Gender  Age            Occupation  Sleep Duration  \\\n",
       "0          1   Male   27     Software Engineer             6.1   \n",
       "1          2   Male   28                Doctor             6.2   \n",
       "2          3   Male   28                Doctor             6.2   \n",
       "3          4   Male   28  Sales Representative             5.9   \n",
       "4          5   Male   28  Sales Representative             5.9   \n",
       "\n",
       "   Quality of Sleep  Physical Activity Level  Stress Level BMI Category  \\\n",
       "0                 6                       42             6   Overweight   \n",
       "1                 6                       60             8       Normal   \n",
       "2                 6                       60             8       Normal   \n",
       "3                 4                       30             8        Obese   \n",
       "4                 4                       30             8        Obese   \n",
       "\n",
       "  Blood Pressure  Heart Rate  Daily Steps Sleep Disorder  \n",
       "0         126/83          77         4200           None  \n",
       "1         125/80          75        10000           None  \n",
       "2         125/80          75        10000           None  \n",
       "3         140/90          85         3000    Sleep Apnea  \n",
       "4         140/90          85         3000    Sleep Apnea  "
      ]
     },
     "execution_count": 3,
     "metadata": {},
     "output_type": "execute_result"
    }
   ],
   "source": [
    "# Load sleep_data set into pandas\n",
    "sleep_data = pd.read_csv(\"resources/Sleep_health_and_lifestyle_dataset.csv\")\n",
    "sleep_data.head()"
   ]
  },
  {
   "cell_type": "code",
   "execution_count": 4,
   "id": "d38a067a",
   "metadata": {},
   "outputs": [
    {
     "data": {
      "text/plain": [
       "Person ID                    int64\n",
       "Gender                      object\n",
       "Age                          int64\n",
       "Occupation                  object\n",
       "Sleep Duration             float64\n",
       "Quality of Sleep             int64\n",
       "Physical Activity Level      int64\n",
       "Stress Level                 int64\n",
       "BMI Category                object\n",
       "Blood Pressure              object\n",
       "Heart Rate                   int64\n",
       "Daily Steps                  int64\n",
       "Sleep Disorder              object\n",
       "dtype: object"
      ]
     },
     "execution_count": 4,
     "metadata": {},
     "output_type": "execute_result"
    }
   ],
   "source": [
    "# No Null Values\n",
    "# Identify types\n",
    "sleep_data.dtypes"
   ]
  },
  {
   "cell_type": "code",
   "execution_count": 5,
   "id": "61584813",
   "metadata": {},
   "outputs": [],
   "source": [
    "# Identify unique values"
   ]
  },
  {
   "cell_type": "code",
   "execution_count": 6,
   "id": "571fe491",
   "metadata": {},
   "outputs": [],
   "source": [
    "# Sleep - Physical Activity\n"
   ]
  },
  {
   "cell_type": "code",
   "execution_count": 7,
   "id": "d3e77119",
   "metadata": {},
   "outputs": [],
   "source": [
    "# Does the need for sleep increase with age? (Stress)(Sleep duraation)(Sleep Quality)"
   ]
  },
  {
   "cell_type": "code",
   "execution_count": 8,
   "id": "32baa5b4",
   "metadata": {},
   "outputs": [],
   "source": [
    "# Create bins\n",
    "bins = [20, 29, 39, 49, 59]\n",
    "age_labels = [\"20s\", \"30s\", \"40s\", \"50s\"]"
   ]
  },
  {
   "cell_type": "code",
   "execution_count": 9,
   "id": "88d0f526",
   "metadata": {},
   "outputs": [
    {
     "data": {
      "text/html": [
       "<div>\n",
       "<style scoped>\n",
       "    .dataframe tbody tr th:only-of-type {\n",
       "        vertical-align: middle;\n",
       "    }\n",
       "\n",
       "    .dataframe tbody tr th {\n",
       "        vertical-align: top;\n",
       "    }\n",
       "\n",
       "    .dataframe thead th {\n",
       "        text-align: right;\n",
       "    }\n",
       "</style>\n",
       "<table border=\"1\" class=\"dataframe\">\n",
       "  <thead>\n",
       "    <tr style=\"text-align: right;\">\n",
       "      <th></th>\n",
       "      <th>Person ID</th>\n",
       "      <th>Gender</th>\n",
       "      <th>Age</th>\n",
       "      <th>Occupation</th>\n",
       "      <th>Sleep Duration</th>\n",
       "      <th>Quality of Sleep</th>\n",
       "      <th>Physical Activity Level</th>\n",
       "      <th>Stress Level</th>\n",
       "      <th>BMI Category</th>\n",
       "      <th>Blood Pressure</th>\n",
       "      <th>Heart Rate</th>\n",
       "      <th>Daily Steps</th>\n",
       "      <th>Sleep Disorder</th>\n",
       "      <th>Age Range</th>\n",
       "    </tr>\n",
       "  </thead>\n",
       "  <tbody>\n",
       "    <tr>\n",
       "      <th>0</th>\n",
       "      <td>1</td>\n",
       "      <td>Male</td>\n",
       "      <td>27</td>\n",
       "      <td>Software Engineer</td>\n",
       "      <td>6.1</td>\n",
       "      <td>6</td>\n",
       "      <td>42</td>\n",
       "      <td>6</td>\n",
       "      <td>Overweight</td>\n",
       "      <td>126/83</td>\n",
       "      <td>77</td>\n",
       "      <td>4200</td>\n",
       "      <td>None</td>\n",
       "      <td>20s</td>\n",
       "    </tr>\n",
       "    <tr>\n",
       "      <th>1</th>\n",
       "      <td>2</td>\n",
       "      <td>Male</td>\n",
       "      <td>28</td>\n",
       "      <td>Doctor</td>\n",
       "      <td>6.2</td>\n",
       "      <td>6</td>\n",
       "      <td>60</td>\n",
       "      <td>8</td>\n",
       "      <td>Normal</td>\n",
       "      <td>125/80</td>\n",
       "      <td>75</td>\n",
       "      <td>10000</td>\n",
       "      <td>None</td>\n",
       "      <td>20s</td>\n",
       "    </tr>\n",
       "    <tr>\n",
       "      <th>2</th>\n",
       "      <td>3</td>\n",
       "      <td>Male</td>\n",
       "      <td>28</td>\n",
       "      <td>Doctor</td>\n",
       "      <td>6.2</td>\n",
       "      <td>6</td>\n",
       "      <td>60</td>\n",
       "      <td>8</td>\n",
       "      <td>Normal</td>\n",
       "      <td>125/80</td>\n",
       "      <td>75</td>\n",
       "      <td>10000</td>\n",
       "      <td>None</td>\n",
       "      <td>20s</td>\n",
       "    </tr>\n",
       "    <tr>\n",
       "      <th>3</th>\n",
       "      <td>4</td>\n",
       "      <td>Male</td>\n",
       "      <td>28</td>\n",
       "      <td>Sales Representative</td>\n",
       "      <td>5.9</td>\n",
       "      <td>4</td>\n",
       "      <td>30</td>\n",
       "      <td>8</td>\n",
       "      <td>Obese</td>\n",
       "      <td>140/90</td>\n",
       "      <td>85</td>\n",
       "      <td>3000</td>\n",
       "      <td>Sleep Apnea</td>\n",
       "      <td>20s</td>\n",
       "    </tr>\n",
       "    <tr>\n",
       "      <th>4</th>\n",
       "      <td>5</td>\n",
       "      <td>Male</td>\n",
       "      <td>28</td>\n",
       "      <td>Sales Representative</td>\n",
       "      <td>5.9</td>\n",
       "      <td>4</td>\n",
       "      <td>30</td>\n",
       "      <td>8</td>\n",
       "      <td>Obese</td>\n",
       "      <td>140/90</td>\n",
       "      <td>85</td>\n",
       "      <td>3000</td>\n",
       "      <td>Sleep Apnea</td>\n",
       "      <td>20s</td>\n",
       "    </tr>\n",
       "    <tr>\n",
       "      <th>...</th>\n",
       "      <td>...</td>\n",
       "      <td>...</td>\n",
       "      <td>...</td>\n",
       "      <td>...</td>\n",
       "      <td>...</td>\n",
       "      <td>...</td>\n",
       "      <td>...</td>\n",
       "      <td>...</td>\n",
       "      <td>...</td>\n",
       "      <td>...</td>\n",
       "      <td>...</td>\n",
       "      <td>...</td>\n",
       "      <td>...</td>\n",
       "      <td>...</td>\n",
       "    </tr>\n",
       "    <tr>\n",
       "      <th>369</th>\n",
       "      <td>370</td>\n",
       "      <td>Female</td>\n",
       "      <td>59</td>\n",
       "      <td>Nurse</td>\n",
       "      <td>8.1</td>\n",
       "      <td>9</td>\n",
       "      <td>75</td>\n",
       "      <td>3</td>\n",
       "      <td>Overweight</td>\n",
       "      <td>140/95</td>\n",
       "      <td>68</td>\n",
       "      <td>7000</td>\n",
       "      <td>Sleep Apnea</td>\n",
       "      <td>50s</td>\n",
       "    </tr>\n",
       "    <tr>\n",
       "      <th>370</th>\n",
       "      <td>371</td>\n",
       "      <td>Female</td>\n",
       "      <td>59</td>\n",
       "      <td>Nurse</td>\n",
       "      <td>8.0</td>\n",
       "      <td>9</td>\n",
       "      <td>75</td>\n",
       "      <td>3</td>\n",
       "      <td>Overweight</td>\n",
       "      <td>140/95</td>\n",
       "      <td>68</td>\n",
       "      <td>7000</td>\n",
       "      <td>Sleep Apnea</td>\n",
       "      <td>50s</td>\n",
       "    </tr>\n",
       "    <tr>\n",
       "      <th>371</th>\n",
       "      <td>372</td>\n",
       "      <td>Female</td>\n",
       "      <td>59</td>\n",
       "      <td>Nurse</td>\n",
       "      <td>8.1</td>\n",
       "      <td>9</td>\n",
       "      <td>75</td>\n",
       "      <td>3</td>\n",
       "      <td>Overweight</td>\n",
       "      <td>140/95</td>\n",
       "      <td>68</td>\n",
       "      <td>7000</td>\n",
       "      <td>Sleep Apnea</td>\n",
       "      <td>50s</td>\n",
       "    </tr>\n",
       "    <tr>\n",
       "      <th>372</th>\n",
       "      <td>373</td>\n",
       "      <td>Female</td>\n",
       "      <td>59</td>\n",
       "      <td>Nurse</td>\n",
       "      <td>8.1</td>\n",
       "      <td>9</td>\n",
       "      <td>75</td>\n",
       "      <td>3</td>\n",
       "      <td>Overweight</td>\n",
       "      <td>140/95</td>\n",
       "      <td>68</td>\n",
       "      <td>7000</td>\n",
       "      <td>Sleep Apnea</td>\n",
       "      <td>50s</td>\n",
       "    </tr>\n",
       "    <tr>\n",
       "      <th>373</th>\n",
       "      <td>374</td>\n",
       "      <td>Female</td>\n",
       "      <td>59</td>\n",
       "      <td>Nurse</td>\n",
       "      <td>8.1</td>\n",
       "      <td>9</td>\n",
       "      <td>75</td>\n",
       "      <td>3</td>\n",
       "      <td>Overweight</td>\n",
       "      <td>140/95</td>\n",
       "      <td>68</td>\n",
       "      <td>7000</td>\n",
       "      <td>Sleep Apnea</td>\n",
       "      <td>50s</td>\n",
       "    </tr>\n",
       "  </tbody>\n",
       "</table>\n",
       "<p>374 rows × 14 columns</p>\n",
       "</div>"
      ],
      "text/plain": [
       "     Person ID  Gender  Age            Occupation  Sleep Duration  \\\n",
       "0            1    Male   27     Software Engineer             6.1   \n",
       "1            2    Male   28                Doctor             6.2   \n",
       "2            3    Male   28                Doctor             6.2   \n",
       "3            4    Male   28  Sales Representative             5.9   \n",
       "4            5    Male   28  Sales Representative             5.9   \n",
       "..         ...     ...  ...                   ...             ...   \n",
       "369        370  Female   59                 Nurse             8.1   \n",
       "370        371  Female   59                 Nurse             8.0   \n",
       "371        372  Female   59                 Nurse             8.1   \n",
       "372        373  Female   59                 Nurse             8.1   \n",
       "373        374  Female   59                 Nurse             8.1   \n",
       "\n",
       "     Quality of Sleep  Physical Activity Level  Stress Level BMI Category  \\\n",
       "0                   6                       42             6   Overweight   \n",
       "1                   6                       60             8       Normal   \n",
       "2                   6                       60             8       Normal   \n",
       "3                   4                       30             8        Obese   \n",
       "4                   4                       30             8        Obese   \n",
       "..                ...                      ...           ...          ...   \n",
       "369                 9                       75             3   Overweight   \n",
       "370                 9                       75             3   Overweight   \n",
       "371                 9                       75             3   Overweight   \n",
       "372                 9                       75             3   Overweight   \n",
       "373                 9                       75             3   Overweight   \n",
       "\n",
       "    Blood Pressure  Heart Rate  Daily Steps Sleep Disorder Age Range  \n",
       "0           126/83          77         4200           None       20s  \n",
       "1           125/80          75        10000           None       20s  \n",
       "2           125/80          75        10000           None       20s  \n",
       "3           140/90          85         3000    Sleep Apnea       20s  \n",
       "4           140/90          85         3000    Sleep Apnea       20s  \n",
       "..             ...         ...          ...            ...       ...  \n",
       "369         140/95          68         7000    Sleep Apnea       50s  \n",
       "370         140/95          68         7000    Sleep Apnea       50s  \n",
       "371         140/95          68         7000    Sleep Apnea       50s  \n",
       "372         140/95          68         7000    Sleep Apnea       50s  \n",
       "373         140/95          68         7000    Sleep Apnea       50s  \n",
       "\n",
       "[374 rows x 14 columns]"
      ]
     },
     "execution_count": 9,
     "metadata": {},
     "output_type": "execute_result"
    }
   ],
   "source": [
    "# Slice the data and place it into bins\n",
    "# Place the data series into a new column inside of the DataFrame\n",
    "sleep_data[\"Age Range\"] = pd.cut(sleep_data[\"Age\"], bins, labels=age_labels)\n",
    "sleep_data"
   ]
  },
  {
   "cell_type": "code",
   "execution_count": 10,
   "id": "25efd4f1",
   "metadata": {},
   "outputs": [
    {
     "data": {
      "text/plain": [
       "Age Range\n",
       "20s    7.315789\n",
       "30s    5.521127\n",
       "40s    5.675214\n",
       "50s    4.447917\n",
       "Name: Stress Level, dtype: float64"
      ]
     },
     "execution_count": 10,
     "metadata": {},
     "output_type": "execute_result"
    }
   ],
   "source": [
    "#calculate the mean of stress level by age group\n",
    "age_stress = sleep_data.groupby([\"Age Range\"])[\"Stress Level\"].mean()\n",
    "age_stress"
   ]
  },
  {
   "cell_type": "code",
   "execution_count": 11,
   "id": "00e0303d",
   "metadata": {},
   "outputs": [
    {
     "data": {
      "text/plain": [
       "Age Range\n",
       "20s    6.468421\n",
       "30s    7.066901\n",
       "40s    6.909402\n",
       "50s    7.631250\n",
       "Name: Sleep Duration, dtype: float64"
      ]
     },
     "execution_count": 11,
     "metadata": {},
     "output_type": "execute_result"
    }
   ],
   "source": [
    "#calculate the mean of sleep duration by age group\n",
    "age_sleep_duration = sleep_data.groupby([\"Age Range\"])[\"Sleep Duration\"].mean()\n",
    "age_sleep_duration"
   ]
  },
  {
   "cell_type": "code",
   "execution_count": 12,
   "id": "2c2312fb",
   "metadata": {},
   "outputs": [
    {
     "data": {
      "text/plain": [
       "Age Range\n",
       "20s    5.789474\n",
       "30s    7.225352\n",
       "40s    6.965812\n",
       "50s    8.166667\n",
       "Name: Quality of Sleep, dtype: float64"
      ]
     },
     "execution_count": 12,
     "metadata": {},
     "output_type": "execute_result"
    }
   ],
   "source": [
    "age_sleep_quality = sleep_data.groupby([\"Age Range\"])[\"Quality of Sleep\"].mean()\n",
    "age_sleep_quality"
   ]
  },
  {
   "cell_type": "code",
   "execution_count": 13,
   "id": "cca04283",
   "metadata": {},
   "outputs": [
    {
     "data": {
      "image/png": "[encoded data removed]",
      "text/plain": [
       "<Figure size 640x480 with 1 Axes>"
      ]
     },
     "metadata": {},
     "output_type": "display_data"
    }
   ],
   "source": [
    "# Create bar chart for age_stress\n",
    "age_stress.plot(kind='bar', color=\"orange\")\n",
    "\n",
    "# Create the ticks/titles/labels for our bar chart's x axis\n",
    "plt.title(\"Stress Level by Age Range\")\n",
    "plt.xlabel(\"Age Range\")\n",
    "plt.ylabel(\"Stress Level\")\n",
    "plt.savefig(\"images/age_stress_bar.png\")\n",
    "plt.show()"
   ]
  },
  {
   "cell_type": "code",
   "execution_count": 14,
   "id": "3ce7b6c4",
   "metadata": {
    "scrolled": true
   },
   "outputs": [
    {
     "data": {
      "image/png": "[encoded data removed]",
      "text/plain": [
       "<Figure size 640x480 with 1 Axes>"
      ]
     },
     "metadata": {},
     "output_type": "display_data"
    }
   ],
   "source": [
    "# Create bar chart for age_sleep_duration\n",
    "age_sleep_duration.plot(kind='bar', color=\"blue\")\n",
    "\n",
    "# Create the ticks/titles/labels for our bar chart's x axis\n",
    "plt.title(\"Sleep Duration by Age Range\")\n",
    "plt.xlabel(\"Age Range\")\n",
    "plt.ylabel(\"Sleep Duration\")\n",
    "plt.savefig(\"images/age_duration_bar.png\")\n",
    "plt.show()"
   ]
  },
  {
   "cell_type": "code",
   "execution_count": 15,
   "id": "9c09a37a",
   "metadata": {},
   "outputs": [
    {
     "data": {
      "image/png": "[encoded data removed]",
      "text/plain": [
       "<Figure size 640x480 with 1 Axes>"
      ]
     },
     "metadata": {},
     "output_type": "display_data"
    }
   ],
   "source": [
    "# Create bar chart for age_sleep_duration\n",
    "age_sleep_quality.plot(kind='bar', color=\"green\")\n",
    "\n",
    "# Create the ticks/titles/labels for our bar chart's x axis\n",
    "plt.title(\"Quality of Sleep by Age Range\")\n",
    "plt.xlabel(\"Age Range\")\n",
    "plt.ylabel(\"Quality of Sleep\")\n",
    "plt.savefig(\"images/age_quality_bar.png\")\n",
    "plt.show()"
   ]
  },
  {
   "cell_type": "code",
   "execution_count": 16,
   "id": "4a81dfc1",
   "metadata": {},
   "outputs": [
    {
     "data": {
      "image/png": "[encoded data removed]",
      "text/plain": [
       "<Figure size 640x480 with 1 Axes>"
      ]
     },
     "metadata": {},
     "output_type": "display_data"
    }
   ],
   "source": [
    "# Create bar chart for age_stress\n",
    "age_sleep_quality.plot(kind='bar', color=\"green\", alpha=0.15, legend=\"Quality of Sleep\")\n",
    "age_stress.plot(kind='bar', color=\"orange\", alpha=0.15, legend=\"Stress Level\")\n",
    "age_sleep_duration.plot(kind='bar', color=\"blue\", alpha=0.15, legend=\"Sleep Duration\")\n",
    "\n",
    "\n",
    "# Create the ticks/titles/labels for our bar chart's x axis\n",
    "plt.title(\"Stress Level by Age Range\")\n",
    "plt.xlabel(\"Age Range\")\n",
    "plt.ylabel(\"Stress Level\")\n",
    "plt.legend(loc=3)\n",
    "plt.savefig(\"images/all_age_bar.png\")\n",
    "plt.show()"
   ]
  },
  {
   "cell_type": "code",
   "execution_count": 17,
   "id": "4eb7212b",
   "metadata": {},
   "outputs": [],
   "source": [
    "# Create dfs for age ranges\n",
    "twenties_df = sleep_data[sleep_data[\"Age Range\"] == \"20s\"]\n",
    "thirties_df = sleep_data[sleep_data[\"Age Range\"] == \"30s\"]\n",
    "forties_df = sleep_data[sleep_data[\"Age Range\"] == \"40s\"]\n",
    "fifties_df = sleep_data[sleep_data[\"Age Range\"] == \"50s\"]"
   ]
  },
  {
   "cell_type": "code",
   "execution_count": 18,
   "id": "eb5229cc",
   "metadata": {},
   "outputs": [
    {
     "data": {
      "image/png": "[encoded data removed]",
      "text/plain": [
       "<Figure size 640x480 with 1 Axes>"
      ]
     },
     "metadata": {},
     "output_type": "display_data"
    }
   ],
   "source": [
    "# Create scatter plot for stress x duration\n",
    "# plot the sleep duration to stress level relationship for people in their 20s\n",
    "x = twenties_df[\"Sleep Duration\"]\n",
    "y = twenties_df[\"Stress Level\"]\n",
    "plt.scatter(x, y, color=\"cyan\", marker=\"o\", s=80, alpha=0.25, label = \"20s\")\n",
    "\n",
    "# plot the sleep duration to stress level relationship for people in their 30s\n",
    "x = thirties_df[\"Sleep Duration\"]\n",
    "y = thirties_df[\"Stress Level\"]\n",
    "plt.scatter(x, y,color=\"magenta\", marker=\"+\", s=80, alpha=0.25, label = \"30s\")\n",
    "\n",
    "# plot the sleep duration to stress level relationship for people in their 40s\n",
    "x = forties_df[\"Sleep Duration\"]\n",
    "y = forties_df[\"Stress Level\"]\n",
    "plt.scatter(x, y, color=\"blue\", marker=\"x\", s=80, alpha=0.25, label = \"40s\")\n",
    "\n",
    "# plot the sleep duration to stress level relationship for people in their 50s\n",
    "x = fifties_df[\"Sleep Duration\"]\n",
    "y = fifties_df[\"Stress Level\"]\n",
    "plt.scatter(x, y, color=\"yellow\", marker=\"*\", s=80, alpha=0.25, label = \"50s\")\n",
    "\n",
    "\n",
    "# Create the ticks/titles/labels for our bar chart's x axis\n",
    "plt.title(\"Stress Level / Sleep Duration by Age Range\")\n",
    "plt.xlabel(\"Sleep Duration\")\n",
    "plt.ylabel(\"Stress Level\")\n",
    "plt.legend(loc=3)\n",
    "plt.savefig(\"images/sleep_duration_scatter.png\")\n",
    "plt.show()"
   ]
  },
  {
   "cell_type": "code",
   "execution_count": 19,
   "id": "a8213dca",
   "metadata": {},
   "outputs": [
    {
     "data": {
      "image/png": "[encoded data removed]",
      "text/plain": [
       "<Figure size 640x480 with 1 Axes>"
      ]
     },
     "metadata": {},
     "output_type": "display_data"
    }
   ],
   "source": [
    "# Create scatter plot for stress x quality\n",
    "# plot the sleep quality to stress level relationship for people in their 20s\n",
    "x = twenties_df[\"Quality of Sleep\"]\n",
    "y = twenties_df[\"Stress Level\"]\n",
    "plt.scatter(x, y, color=\"cyan\", marker=\"o\", s=80, alpha=0.25, label = \"20s\")\n",
    "\n",
    "# plot the sleep quality to stress level relationship for people in their 30s\n",
    "x = thirties_df[\"Quality of Sleep\"]\n",
    "y = thirties_df[\"Stress Level\"]\n",
    "plt.scatter(x, y,color=\"magenta\", marker=\"+\", s=80, alpha=0.25, label = \"30s\")\n",
    "\n",
    "# plot the sleep quality to stress level relationship for people in their 40s\n",
    "x = forties_df[\"Quality of Sleep\"]\n",
    "y = forties_df[\"Stress Level\"]\n",
    "plt.scatter(x, y, color=\"blue\", marker=\"x\", s=80, alpha=0.25, label = \"40s\")\n",
    "\n",
    "# plot the sleep quality to stress level relationship for people in their 50s\n",
    "x = fifties_df[\"Quality of Sleep\"]\n",
    "y = fifties_df[\"Stress Level\"]\n",
    "plt.scatter(x, y, color=\"yellow\", marker=\"*\", s=80, alpha=0.25, label = \"50s\")\n",
    "\n",
    "\n",
    "# Create the ticks/titles/labels for our bar chart's x axis\n",
    "plt.title(\"Stress Level / Sleep Duration by Age Range\")\n",
    "plt.xlabel(\"Quality of Sleep\")\n",
    "plt.ylabel(\"Stress Level\")\n",
    "plt.legend(loc=3)\n",
    "plt.savefig(\"images/sleep_quality_scatter.png\")\n",
    "plt.show()"
   ]
  },
  {
   "cell_type": "code",
   "execution_count": 20,
   "id": "240b5eb0",
   "metadata": {},
   "outputs": [
    {
     "data": {
      "text/plain": [
       "Occupation\n",
       "Accountant              7.113514\n",
       "Doctor                  6.970423\n",
       "Engineer                7.987302\n",
       "Lawyer                  7.410638\n",
       "Manager                 6.900000\n",
       "Nurse                   7.063014\n",
       "Sales Representative    5.900000\n",
       "Salesperson             6.403125\n",
       "Scientist               6.000000\n",
       "Software Engineer       6.750000\n",
       "Teacher                 6.690000\n",
       "Name: Sleep Duration, dtype: float64"
      ]
     },
     "execution_count": 20,
     "metadata": {},
     "output_type": "execute_result"
    }
   ],
   "source": [
    "# On average are males or females getting better sleep? (lydia)\n",
    "# How does gender correlate with occupation and average length of sleep?\n",
    "# Group occupations\n",
    "occupation_data = sleep_data.groupby([\"Occupation\"])[\"Sleep Duration\"].mean()\n",
    "occupation_data\n",
    "# Generate graph 1\n",
    "# Generate graph 2"
   ]
  },
  {
   "cell_type": "code",
   "execution_count": 21,
   "id": "81c8ee34",
   "metadata": {},
   "outputs": [],
   "source": [
    "# Occupation - BMI\n",
    "# Run unique values\n",
    "# replace normal weight with average\n",
    "# drop \"other\" values"
   ]
  },
  {
   "cell_type": "code",
   "execution_count": null,
   "id": "f09a63b4",
   "metadata": {},
   "outputs": [],
   "source": []
  },
  {
   "cell_type": "code",
   "execution_count": null,
   "id": "4eccd88a",
   "metadata": {},
   "outputs": [],
   "source": []
  }
 ],
 "metadata": {
  "kernelspec": {
   "display_name": "Python 3 (ipykernel)",
   "language": "python",
   "name": "python3"
  },
  "language_info": {
   "codemirror_mode": {
    "name": "ipython",
    "version": 3
   },
   "file_extension": ".py",
   "mimetype": "text/x-python",
   "name": "python",
   "nbconvert_exporter": "python",
   "pygments_lexer": "ipython3",
   "version": "3.10.11"
  }
 },
 "nbformat": 4,
 "nbformat_minor": 5
}
